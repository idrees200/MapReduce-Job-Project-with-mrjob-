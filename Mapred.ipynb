{
  "cells": [
    {
      "cell_type": "code",
      "execution_count": null,
      "metadata": {
        "colab": {
          "base_uri": "https://localhost:8080/"
        },
        "id": "zJE15MbRRiLl",
        "outputId": "914379a1-aa78-4679-d358-7fe55ef0c788",
        "scrolled": true
      },
      "outputs": [
        {
          "output_type": "stream",
          "name": "stdout",
          "text": [
            "Requirement already satisfied: mrjob in /usr/local/lib/python3.10/dist-packages (0.7.4)\n",
            "Requirement already satisfied: PyYAML>=3.10 in /usr/local/lib/python3.10/dist-packages (from mrjob) (6.0.1)\n"
          ]
        }
      ],
      "source": [
        "pip install mrjob"
      ]
    },
    {
      "cell_type": "markdown",
      "source": [
        "**Practice Questions**"
      ],
      "metadata": {
        "id": "5EoupMBfKlMz"
      }
    },
    {
      "cell_type": "markdown",
      "source": [
        "**Q4**"
      ],
      "metadata": {
        "id": "yLW03B7NKtry"
      }
    },
    {
      "cell_type": "code",
      "source": [
        "%%writefile Wordcount.py\n",
        "from mrjob.job import MRJob\n",
        "\n",
        "class WordCount(MRJob):\n",
        "    def mapper(self, _, line):\n",
        "        words = line.split()\n",
        "        for word in words:\n",
        "            yield word, 1\n",
        "\n",
        "    def reducer(self, word, counts):\n",
        "        yield word, sum(counts)\n",
        "\n",
        "if __name__ == '__main__':\n",
        "    WordCount.run()"
      ],
      "metadata": {
        "colab": {
          "base_uri": "https://localhost:8080/"
        },
        "id": "_84WnBWNKkf6",
        "outputId": "2540620f-5543-49a6-e209-f2d2363dab5f"
      },
      "execution_count": null,
      "outputs": [
        {
          "output_type": "stream",
          "name": "stdout",
          "text": [
            "Writing Wordcount.py\n"
          ]
        }
      ]
    },
    {
      "cell_type": "code",
      "source": [
        "! python \"Wordcount.py\" \"music.txt\""
      ],
      "metadata": {
        "colab": {
          "base_uri": "https://localhost:8080/"
        },
        "id": "bhScAvmmLdCg",
        "outputId": "1608323f-f9a1-4f91-b864-173cd1f9f31c"
      },
      "execution_count": null,
      "outputs": [
        {
          "output_type": "stream",
          "name": "stdout",
          "text": [
            "No configs found; falling back on auto-configuration\n",
            "No configs specified for inline runner\n",
            "Creating temp directory /tmp/Wordcount.root.20240302.081349.673056\n",
            "Running step 1 of 1...\n",
            "job output is in /tmp/Wordcount.root.20240302.081349.673056/output\n",
            "Streaming final output from /tmp/Wordcount.root.20240302.081349.673056/output...\n",
            "\"S1\"\t1\n",
            "\"S1,\"\t4\n",
            "\"S2\"\t1\n",
            "\"S2,\"\t1\n",
            "\"20-4-22,\"\t1\n",
            "\"Ali,\"\t2\n",
            "\"Amina,\"\t1\n",
            "\"Fahad,\"\t1\n",
            "\"12-3-20,\"\t1\n",
            "\"14-04-22,\"\t1\n",
            "\"20-4-22\"\t2\n",
            "\"S2,S3\"\t1\n",
            "\"S7,\"\t1\n",
            "\"S7,S3\"\t1\n",
            "\"S9\"\t1\n",
            "\"Sara,\"\t1\n",
            "Removing temp directory /tmp/Wordcount.root.20240302.081349.673056...\n"
          ]
        }
      ]
    },
    {
      "cell_type": "markdown",
      "source": [
        "**Q5**"
      ],
      "metadata": {
        "id": "wBFqSjj8KxPw"
      }
    },
    {
      "cell_type": "code",
      "source": [
        "%%writefile WordStartingcount.py\n",
        "from mrjob.job import MRJob\n",
        "\n",
        "class WordStartingCount(MRJob):\n",
        "    def mapper(self, _, line):\n",
        "        words = line.split()\n",
        "        for word in words:\n",
        "            yield word[0], 1\n",
        "\n",
        "    def reducer(self, char, counts):\n",
        "        yield char, sum(counts)\n",
        "\n",
        "if __name__ == '__main__':\n",
        "    WordStartingCount.run()"
      ],
      "metadata": {
        "colab": {
          "base_uri": "https://localhost:8080/"
        },
        "id": "1v5tQYogKzO5",
        "outputId": "13a0660a-d81f-4cb8-fc7a-8754c9adb865"
      },
      "execution_count": null,
      "outputs": [
        {
          "output_type": "stream",
          "name": "stdout",
          "text": [
            "Writing WordStartingcount.py\n"
          ]
        }
      ]
    },
    {
      "cell_type": "code",
      "source": [
        "! python \"WordStartingcount.py\" \"music.txt\""
      ],
      "metadata": {
        "colab": {
          "base_uri": "https://localhost:8080/"
        },
        "id": "fPQ8_izeMIhE",
        "outputId": "26cbb3a7-f061-463c-bc94-2f152948cae3"
      },
      "execution_count": null,
      "outputs": [
        {
          "output_type": "stream",
          "name": "stdout",
          "text": [
            "No configs found; falling back on auto-configuration\n",
            "No configs specified for inline runner\n",
            "Creating temp directory /tmp/WordStartingcount.root.20240302.081357.946379\n",
            "Running step 1 of 1...\n",
            "job output is in /tmp/WordStartingcount.root.20240302.081357.946379/output\n",
            "Streaming final output from /tmp/WordStartingcount.root.20240302.081357.946379/output...\n",
            "\"F\"\t1\n",
            "\"S\"\t12\n",
            "\"1\"\t2\n",
            "\"2\"\t3\n",
            "\"A\"\t3\n",
            "Removing temp directory /tmp/WordStartingcount.root.20240302.081357.946379...\n"
          ]
        }
      ]
    },
    {
      "cell_type": "markdown",
      "source": [
        "**Q6**"
      ],
      "metadata": {
        "id": "s_pGhP7oMe8Q"
      }
    },
    {
      "cell_type": "code",
      "source": [
        "%%writefile WordLengthFiveCount.py\n",
        "from mrjob.job import MRJob\n",
        "\n",
        "class WordLengthFiveCount(MRJob):\n",
        "    def mapper(self, _, line):\n",
        "        words = line.split()\n",
        "        for word in words:\n",
        "            if len(word) == 5:\n",
        "                yield word, 1\n",
        "\n",
        "    def reducer(self, word, counts):\n",
        "        yield word, sum(counts)\n",
        "\n",
        "if __name__ == '__main__':\n",
        "    WordLengthFiveCount.run()"
      ],
      "metadata": {
        "colab": {
          "base_uri": "https://localhost:8080/"
        },
        "id": "IqYyoFWiMhao",
        "outputId": "a382d651-a319-4667-a6da-1ed904982693"
      },
      "execution_count": null,
      "outputs": [
        {
          "output_type": "stream",
          "name": "stdout",
          "text": [
            "Writing WordLengthFiveCount.py\n"
          ]
        }
      ]
    },
    {
      "cell_type": "code",
      "source": [
        "! python \"WordLengthFiveCount.py\" \"music.txt\""
      ],
      "metadata": {
        "colab": {
          "base_uri": "https://localhost:8080/"
        },
        "id": "f6pY51vTN0Pv",
        "outputId": "8237f607-2490-4b10-bc9b-bc55f1f8628a"
      },
      "execution_count": null,
      "outputs": [
        {
          "output_type": "stream",
          "name": "stdout",
          "text": [
            "No configs found; falling back on auto-configuration\n",
            "No configs specified for inline runner\n",
            "Creating temp directory /tmp/WordLengthFiveCount.root.20240302.081413.277191\n",
            "Running step 1 of 1...\n",
            "job output is in /tmp/WordLengthFiveCount.root.20240302.081413.277191/output\n",
            "Streaming final output from /tmp/WordLengthFiveCount.root.20240302.081413.277191/output...\n",
            "\"Sara,\"\t1\n",
            "\"S7,S3\"\t1\n",
            "\"S2,S3\"\t1\n",
            "Removing temp directory /tmp/WordLengthFiveCount.root.20240302.081413.277191...\n"
          ]
        }
      ]
    },
    {
      "cell_type": "markdown",
      "source": [
        "**Exercise Questions**"
      ],
      "metadata": {
        "id": "g4Myt-fLOF7U"
      }
    },
    {
      "cell_type": "markdown",
      "metadata": {
        "id": "rwmmdDK3kzvT"
      },
      "source": [
        "**Q1**"
      ]
    },
    {
      "cell_type": "code",
      "execution_count": null,
      "metadata": {
        "colab": {
          "base_uri": "https://localhost:8080/"
        },
        "id": "YFYPlTuHkzYa",
        "outputId": "551831e2-af41-47fa-85e8-df14ae3071c5"
      },
      "outputs": [
        {
          "output_type": "stream",
          "name": "stdout",
          "text": [
            "Writing songcount.py\n"
          ]
        }
      ],
      "source": [
        "%%writefile songcount.py\n",
        "from mrjob.job import MRJob\n",
        "\n",
        "class SongCount(MRJob):\n",
        "\n",
        "    def mapper(self, _, line):\n",
        "        user, date, *songs = line.split(',')\n",
        "        yield (date, user), 1\n",
        "\n",
        "    def reducer(self, key, values):\n",
        "        date, user = key\n",
        "        total_songs = sum(values)\n",
        "        if total_songs > 5:\n",
        "            yield None, user\n",
        "\n",
        "\n",
        "if __name__ == '__main__':\n",
        "    SongCount.run()\n"
      ]
    },
    {
      "cell_type": "code",
      "execution_count": null,
      "metadata": {
        "colab": {
          "base_uri": "https://localhost:8080/"
        },
        "id": "dW9c8PR8lF8Y",
        "outputId": "c821a6d0-cd18-4d01-c1e5-962e928c3f46"
      },
      "outputs": [
        {
          "output_type": "stream",
          "name": "stdout",
          "text": [
            "No configs found; falling back on auto-configuration\n",
            "No configs specified for inline runner\n",
            "Creating temp directory /tmp/songcount.root.20240302.081423.102084\n",
            "Running step 1 of 1...\n",
            "job output is in /tmp/songcount.root.20240302.081423.102084/output\n",
            "Streaming final output from /tmp/songcount.root.20240302.081423.102084/output...\n",
            "Removing temp directory /tmp/songcount.root.20240302.081423.102084...\n"
          ]
        }
      ],
      "source": [
        "! python \"songcount.py\" \"music.txt\""
      ]
    },
    {
      "cell_type": "markdown",
      "metadata": {
        "id": "bHyzY_lflJiu"
      },
      "source": [
        "**Q2**"
      ]
    },
    {
      "cell_type": "code",
      "execution_count": null,
      "metadata": {
        "colab": {
          "base_uri": "https://localhost:8080/"
        },
        "id": "EXMdu3JVlMpF",
        "outputId": "e18c20d1-29f5-47ae-f87a-fa2e6d8bc3dd"
      },
      "outputs": [
        {
          "output_type": "stream",
          "name": "stdout",
          "text": [
            "Overwriting songcount.py\n"
          ]
        }
      ],
      "source": [
        "%%file songcount.py\n",
        "from mrjob.job import MRJob\n",
        "\n",
        "class SongCount(MRJob):\n",
        "\n",
        "    def mapper(self, _, line):\n",
        "        user, date, *songs = line.split(',')\n",
        "        yield (user, date), len(songs)\n",
        "\n",
        "    def reducer(self, key, values):\n",
        "        user, date = key\n",
        "        total_songs = sum(values)\n",
        "        yield None, f\"{user}\\t {date} \\t {total_songs}\"\n",
        "\n",
        "if __name__ == '__main__':\n",
        "    SongCount.run()"
      ]
    },
    {
      "cell_type": "code",
      "execution_count": null,
      "metadata": {
        "colab": {
          "base_uri": "https://localhost:8080/"
        },
        "id": "no_-itXVlNRn",
        "outputId": "9f05818b-7d89-4ad4-eb53-f35b1a181d5c"
      },
      "outputs": [
        {
          "output_type": "stream",
          "name": "stdout",
          "text": [
            "No configs found; falling back on auto-configuration\n",
            "No configs specified for inline runner\n",
            "Creating temp directory /tmp/songcount.root.20240302.081441.202347\n",
            "Running step 1 of 1...\n",
            "job output is in /tmp/songcount.root.20240302.081441.202347/output\n",
            "Streaming final output from /tmp/songcount.root.20240302.081441.202347/output...\n",
            "null\t\"Sara\\t  20-4-22 S1 \\t 2\"\n",
            "null\t\"Amina\\t  20-4-22 \\t 1\"\n",
            "null\t\"Fahad\\t  14-04-22 \\t 4\"\n",
            "null\t\"Ali\\t  12-3-20 \\t 3\"\n",
            "null\t\"Ali\\t  20-4-22 S1 \\t 1\"\n",
            "Removing temp directory /tmp/songcount.root.20240302.081441.202347...\n"
          ]
        }
      ],
      "source": [
        "! python \"songcount.py\" \"music.txt\""
      ]
    },
    {
      "cell_type": "markdown",
      "metadata": {
        "id": "WXEB7HKxSZ0v"
      },
      "source": [
        "**Q3**"
      ]
    },
    {
      "cell_type": "code",
      "execution_count": null,
      "metadata": {
        "colab": {
          "base_uri": "https://localhost:8080/"
        },
        "id": "AzHOtWsTSbIN",
        "outputId": "d3c0db48-b979-43ee-885e-e6ab630122b2"
      },
      "outputs": [
        {
          "output_type": "stream",
          "name": "stdout",
          "text": [
            "Overwriting songcount.py\n"
          ]
        }
      ],
      "source": [
        "%%file songcount.py\n",
        "from mrjob.job import MRJob\n",
        "\n",
        "class SongCount(MRJob):\n",
        "\n",
        "    def mapper(self, _, line):\n",
        "        user, date, *songs = line.split(',')\n",
        "        for song in songs:\n",
        "            yield user, 1\n",
        "\n",
        "    def combiner(self, user, counts):\n",
        "        total_songs = sum(counts)\n",
        "        yield user, total_songs\n",
        "\n",
        "    def reducer(self, user, counts):\n",
        "        total_songs = sum(counts)\n",
        "        yield user, total_songs\n",
        "\n",
        "if __name__ == '__main__':\n",
        "    SongCount.run()\n"
      ]
    },
    {
      "cell_type": "code",
      "execution_count": null,
      "metadata": {
        "colab": {
          "base_uri": "https://localhost:8080/"
        },
        "id": "cDgwpDVmT5mX",
        "outputId": "874d61a5-8c38-46d3-cbd9-fbee431983e5"
      },
      "outputs": [
        {
          "output_type": "stream",
          "name": "stdout",
          "text": [
            "No configs found; falling back on auto-configuration\n",
            "No configs specified for inline runner\n",
            "Creating temp directory /tmp/songcount.root.20240302.081601.712733\n",
            "Running step 1 of 1...\n",
            "job output is in /tmp/songcount.root.20240302.081601.712733/output\n",
            "Streaming final output from /tmp/songcount.root.20240302.081601.712733/output...\n",
            "\"Sara\"\t2\n",
            "\"Amina\"\t1\n",
            "\"Fahad\"\t4\n",
            "\"Ali\"\t4\n",
            "Removing temp directory /tmp/songcount.root.20240302.081601.712733...\n"
          ]
        }
      ],
      "source": [
        "! python \"songcount.py\" \"music.txt\""
      ]
    },
    {
      "cell_type": "markdown",
      "metadata": {
        "id": "BvDPEu0oll-5"
      },
      "source": [
        "**Q4**"
      ]
    },
    {
      "cell_type": "code",
      "execution_count": null,
      "metadata": {
        "colab": {
          "base_uri": "https://localhost:8080/"
        },
        "id": "56Yo7lj_ecwv",
        "outputId": "e7c45080-0b42-4e97-958c-8bb393da7543"
      },
      "outputs": [
        {
          "output_type": "stream",
          "name": "stdout",
          "text": [
            "Overwriting songcount.py\n"
          ]
        }
      ],
      "source": [
        "%%file songcount.py\n",
        "from mrjob.job import MRJob\n",
        "from mrjob.step import MRStep\n",
        "\n",
        "class AverageSongsPerDay(MRJob):\n",
        "\n",
        "    def mapper(self, _, line):\n",
        "        username, date, *songs = line.split(',')\n",
        "        yield date, len(songs)\n",
        "\n",
        "    def combiner(self, date, counts):\n",
        "        yield date, sum(counts)\n",
        "\n",
        "    def reducer(self, date, counts):\n",
        "        total_songs = sum(counts)\n",
        "        total_days = 1\n",
        "        for _ in counts:\n",
        "            total_days += 1\n",
        "        yield None, total_songs/total_days\n",
        "\n",
        "if __name__ == '__main__':\n",
        "    AverageSongsPerDay.run()\n",
        "\n"
      ]
    },
    {
      "cell_type": "code",
      "execution_count": null,
      "metadata": {
        "colab": {
          "base_uri": "https://localhost:8080/"
        },
        "id": "5ytnGnXyiEtO",
        "outputId": "8a0634fc-b5c3-498d-ed98-b52721519fb4"
      },
      "outputs": [
        {
          "output_type": "stream",
          "name": "stdout",
          "text": [
            "No configs found; falling back on auto-configuration\n",
            "No configs specified for inline runner\n",
            "Creating temp directory /tmp/songcount.root.20240302.081612.196485\n",
            "Running step 1 of 1...\n",
            "job output is in /tmp/songcount.root.20240302.081612.196485/output\n",
            "Streaming final output from /tmp/songcount.root.20240302.081612.196485/output...\n",
            "null\t1.0\n",
            "null\t3.0\n",
            "null\t3.0\n",
            "null\t4.0\n",
            "Removing temp directory /tmp/songcount.root.20240302.081612.196485...\n"
          ]
        }
      ],
      "source": [
        "! python \"songcount.py\" \"music.txt\""
      ]
    },
    {
      "cell_type": "markdown",
      "metadata": {
        "id": "CdVU3cs5SqCJ"
      },
      "source": [
        "**Q5**"
      ]
    },
    {
      "cell_type": "code",
      "execution_count": null,
      "metadata": {
        "colab": {
          "base_uri": "https://localhost:8080/"
        },
        "id": "iYtbakKNSqfI",
        "outputId": "3c8d0f3a-b954-4a15-ac32-3e8dc28ff2e6"
      },
      "outputs": [
        {
          "output_type": "stream",
          "name": "stdout",
          "text": [
            "Overwriting songcount.py\n"
          ]
        }
      ],
      "source": [
        "%%file songcount.py\n",
        "\n",
        "from mrjob.job import MRJob\n",
        "from mrjob.step import MRStep\n",
        "\n",
        "class SongCount(MRJob):\n",
        "\n",
        "    def mapper(self, _, line):\n",
        "        fields = line.strip().split(',')\n",
        "        songs = fields[2:]\n",
        "        for song in songs:\n",
        "            yield (song, 1)\n",
        "\n",
        "    def combiner(self, song, counts):\n",
        "        yield (song, sum(counts))\n",
        "\n",
        "    def reducer(self, song, counts):\n",
        "        yield (song, sum(counts))\n",
        "\n",
        "if __name__ == '__main__':\n",
        "    SongCount.run()\n",
        "\n",
        "\n"
      ]
    },
    {
      "cell_type": "code",
      "execution_count": null,
      "metadata": {
        "colab": {
          "base_uri": "https://localhost:8080/"
        },
        "id": "rg_zFIgai2VJ",
        "outputId": "4e2b9762-f2d3-43c1-e4d5-3f1a5bac5012"
      },
      "outputs": [
        {
          "output_type": "stream",
          "name": "stdout",
          "text": [
            "No configs found; falling back on auto-configuration\n",
            "No configs specified for inline runner\n",
            "Creating temp directory /tmp/songcount.root.20240302.081620.929365\n",
            "Running step 1 of 1...\n",
            "job output is in /tmp/songcount.root.20240302.081620.929365/output\n",
            "Streaming final output from /tmp/songcount.root.20240302.081620.929365/output...\n",
            "\" S7\"\t2\n",
            "\" S2\"\t3\n",
            "\" S1\"\t3\n",
            "\" S9\"\t1\n",
            "\"S3\"\t2\n",
            "Removing temp directory /tmp/songcount.root.20240302.081620.929365...\n"
          ]
        }
      ],
      "source": [
        "! python \"songcount.py\" \"music.txt\""
      ]
    },
    {
      "cell_type": "markdown",
      "metadata": {
        "id": "-b8RAfvbSudu"
      },
      "source": [
        "**Q6**"
      ]
    },
    {
      "cell_type": "code",
      "execution_count": null,
      "metadata": {
        "colab": {
          "base_uri": "https://localhost:8080/"
        },
        "id": "DM3q7BgwSuyD",
        "outputId": "b456f041-428f-439d-8ba4-a1aa0bf5d805"
      },
      "outputs": [
        {
          "output_type": "stream",
          "name": "stdout",
          "text": [
            "Overwriting songcount.py\n"
          ]
        }
      ],
      "source": [
        "%%file songcount.py\n",
        "from mrjob.job import MRJob\n",
        "from mrjob.step import MRStep\n",
        "\n",
        "class SongCount(MRJob):\n",
        "\n",
        "    def mapper(self, _, line):\n",
        "        fields = line.strip().split(',')\n",
        "        username = fields[0]\n",
        "        date = fields[1]\n",
        "        songs = fields[2:]\n",
        "        yield (date, (username, len(songs)))\n",
        "\n",
        "    def combiner(self, date, user_songs):\n",
        "        max_user = None\n",
        "        max_songs = 0\n",
        "        for user, song_count in user_songs:\n",
        "            if song_count > max_songs:\n",
        "                max_user = user\n",
        "                max_songs = song_count\n",
        "        yield (date, (max_user, max_songs))\n",
        "\n",
        "    def reducer(self, date, user_song):\n",
        "        max_user = None\n",
        "        max_songs = 0\n",
        "        for user, song_count in user_song:\n",
        "            if song_count > max_songs:\n",
        "                max_user = user\n",
        "                max_songs = song_count\n",
        "        yield (date, max_user)\n",
        "\n",
        "if __name__ == '__main__':\n",
        "       SongCount.run()\n",
        "       print(SongCount.counts)\n",
        "\n",
        "\n"
      ]
    },
    {
      "cell_type": "code",
      "execution_count": null,
      "metadata": {
        "colab": {
          "base_uri": "https://localhost:8080/"
        },
        "id": "zK-mZ3ZEo6Wq",
        "outputId": "413b400e-0b04-4fc6-aadb-ba9ec2e68f31"
      },
      "outputs": [
        {
          "output_type": "stream",
          "name": "stdout",
          "text": [
            "No configs found; falling back on auto-configuration\n",
            "No configs specified for inline runner\n",
            "Creating temp directory /tmp/songcount.root.20240302.072003.201663\n",
            "Running step 1 of 1...\n",
            "job output is in /tmp/songcount.root.20240302.072003.201663/output\n",
            "Streaming final output from /tmp/songcount.root.20240302.072003.201663/output...\n",
            "\" 20-4-22\"\t\"Amina\"\n",
            "\" 20-4-22 S1\"\t\"Sara\"\n",
            "\" 12-3-20\"\t\"Ali\"\n",
            "\" 14-04-22\"\t\"Fahad\"\n",
            "Removing temp directory /tmp/songcount.root.20240302.072003.201663...\n",
            "Traceback (most recent call last):\n",
            "  File \"/content/songcount.py\", line 33, in <module>\n",
            "    print(SongCount.counts)\n",
            "AttributeError: type object 'SongCount' has no attribute 'counts'\n"
          ]
        }
      ],
      "source": [
        "! python \"songcount.py\" \"music.txt\""
      ]
    },
    {
      "cell_type": "markdown",
      "metadata": {
        "id": "dFn2FajWS3i2"
      },
      "source": [
        "**Q7**"
      ]
    },
    {
      "cell_type": "code",
      "execution_count": null,
      "metadata": {
        "colab": {
          "base_uri": "https://localhost:8080/"
        },
        "id": "LoXoOuCqS4Ab",
        "outputId": "4b92d67b-13dd-4710-d451-cc822be4c048"
      },
      "outputs": [
        {
          "output_type": "stream",
          "name": "stdout",
          "text": [
            "Overwriting songcount.py\n"
          ]
        }
      ],
      "source": [
        "%%file songcount.py\n",
        "from mrjob.job import MRJob\n",
        "from mrjob.step import MRStep\n",
        "\n",
        "class SongCount(MRJob):\n",
        "\n",
        "    def mapper(self, _, line):\n",
        "        fields = line.strip().split(',')\n",
        "        user = fields[0]\n",
        "        songs = fields[2:]\n",
        "        yield user, len(songs)\n",
        "\n",
        "    def combiner(self, user, song_counts):\n",
        "        yield user, sum(song_counts)\n",
        "\n",
        "    def reducer(self, user, song_counts):\n",
        "        yield None, (user, sum(song_counts))\n",
        "\n",
        "    def reducer_max_songs(self, _, user_song_counts):\n",
        "        max_user, max_song_count = None, 0\n",
        "        for user, song_count in user_song_counts:\n",
        "            if song_count > max_song_count:\n",
        "                max_user, max_song_count = user, song_count\n",
        "        yield max_user, max_song_count\n",
        "\n",
        "    def steps(self):\n",
        "        return [\n",
        "            MRStep(mapper=self.mapper,\n",
        "                   combiner=self.combiner,\n",
        "                   reducer=self.reducer),\n",
        "            MRStep(reducer=self.reducer_max_songs)\n",
        "        ]\n",
        "\n",
        "if __name__ == '__main__':\n",
        "    SongCount.run()\n"
      ]
    },
    {
      "cell_type": "code",
      "execution_count": null,
      "metadata": {
        "colab": {
          "base_uri": "https://localhost:8080/"
        },
        "id": "or9ADR5Npw2C",
        "outputId": "f87a951b-52e9-4388-8965-45100e816252"
      },
      "outputs": [
        {
          "name": "stdout",
          "output_type": "stream",
          "text": [
            "\"Ali\"\t4\n"
          ]
        },
        {
          "name": "stderr",
          "output_type": "stream",
          "text": [
            "No configs found; falling back on auto-configuration\n",
            "No configs specified for inline runner\n",
            "Creating temp directory C:\\Users\\TECHZO~1\\AppData\\Local\\Temp\\songcount.TECH ZONE.20230315.183101.102924\n",
            "Running step 1 of 2...\n",
            "Running step 2 of 2...\n",
            "job output is in C:\\Users\\TECHZO~1\\AppData\\Local\\Temp\\songcount.TECH ZONE.20230315.183101.102924\\output\n",
            "Streaming final output from C:\\Users\\TECHZO~1\\AppData\\Local\\Temp\\songcount.TECH ZONE.20230315.183101.102924\\output...\n",
            "Removing temp directory C:\\Users\\TECHZO~1\\AppData\\Local\\Temp\\songcount.TECH ZONE.20230315.183101.102924...\n"
          ]
        }
      ],
      "source": [
        "! python \"songcount.py\" \"music.txt\""
      ]
    },
    {
      "cell_type": "markdown",
      "metadata": {
        "id": "RfjEQdJ0SuZe"
      },
      "source": [
        "**Q8**"
      ]
    },
    {
      "cell_type": "code",
      "execution_count": null,
      "metadata": {
        "colab": {
          "base_uri": "https://localhost:8080/"
        },
        "id": "5bakvhvLp2DT",
        "outputId": "9df5e295-774e-48bc-c545-8232db011731"
      },
      "outputs": [
        {
          "name": "stdout",
          "output_type": "stream",
          "text": [
            "Overwriting songcount.py\n"
          ]
        }
      ],
      "source": [
        "%%file songcount.py\n",
        "from mrjob.job import MRJob\n",
        "\n",
        "class SongCount(MRJob):\n",
        "\n",
        "    def mapper(self, _, line):\n",
        "\n",
        "        fields = line.strip().split(',')\n",
        "        if len(fields) == 3:\n",
        "\n",
        "            username, date, song_ids = fields[0], fields[1], fields[2].split()\n",
        "\n",
        "            yield (username, date), len(song_ids)\n",
        "\n",
        "    def combiner(self, user_date, song_counts):\n",
        "\n",
        "        yield user_date, sum(song_counts)\n",
        "\n",
        "    def reducer(self, user_date, song_counts):\n",
        "\n",
        "        total_songs = sum(song_counts)\n",
        "\n",
        "        yield user_date[0], total_songs\n",
        "\n",
        "if __name__ == '__main__':\n",
        "    SongCount.run()\n"
      ]
    },
    {
      "cell_type": "code",
      "execution_count": null,
      "metadata": {
        "colab": {
          "base_uri": "https://localhost:8080/"
        },
        "id": "Im2bAO-3p2dl",
        "outputId": "8045f1c0-f2df-48fb-b463-877ec657276a"
      },
      "outputs": [
        {
          "name": "stdout",
          "output_type": "stream",
          "text": [
            "\"Ali\"\t1\n",
            "\"Amina\"\t1\n"
          ]
        },
        {
          "name": "stderr",
          "output_type": "stream",
          "text": [
            "No configs found; falling back on auto-configuration\n",
            "No configs specified for inline runner\n",
            "Creating temp directory C:\\Users\\TECHZO~1\\AppData\\Local\\Temp\\songcount.TECH ZONE.20230315.183104.585359\n",
            "Running step 1 of 1...\n",
            "job output is in C:\\Users\\TECHZO~1\\AppData\\Local\\Temp\\songcount.TECH ZONE.20230315.183104.585359\\output\n",
            "Streaming final output from C:\\Users\\TECHZO~1\\AppData\\Local\\Temp\\songcount.TECH ZONE.20230315.183104.585359\\output...\n",
            "Removing temp directory C:\\Users\\TECHZO~1\\AppData\\Local\\Temp\\songcount.TECH ZONE.20230315.183104.585359...\n"
          ]
        }
      ],
      "source": [
        "! python \"songcount.py\" \"music.txt\""
      ]
    },
    {
      "cell_type": "code",
      "execution_count": null,
      "metadata": {
        "id": "Dw7yVP7NBDtt"
      },
      "outputs": [],
      "source": []
    }
  ],
  "metadata": {
    "colab": {
      "provenance": []
    },
    "kernelspec": {
      "display_name": "Python 3 (ipykernel)",
      "language": "python",
      "name": "python3"
    },
    "language_info": {
      "codemirror_mode": {
        "name": "ipython",
        "version": 3
      },
      "file_extension": ".py",
      "mimetype": "text/x-python",
      "name": "python",
      "nbconvert_exporter": "python",
      "pygments_lexer": "ipython3",
      "version": "3.9.13"
    }
  },
  "nbformat": 4,
  "nbformat_minor": 0
}